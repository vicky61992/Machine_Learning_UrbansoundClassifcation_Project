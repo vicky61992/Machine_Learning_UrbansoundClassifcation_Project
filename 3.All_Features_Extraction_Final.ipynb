{
 "cells": [
  {
   "cell_type": "code",
   "execution_count": 1,
   "metadata": {},
   "outputs": [],
   "source": [
    "import sys\n",
    "import os\n",
    "import IPython as IP\n",
    "import pandas as pd\n",
    "import numpy as np\n",
    "import matplotlib.pyplot as plt\n",
    "import librosa\n",
    "import librosa.display\n",
    "import pickle\n",
    "import helpers\n",
    "import tensorflow as tf\n",
    "from sklearn.preprocessing import LabelEncoder\n",
    "from sklearn.model_selection import train_test_split\n",
    "from IPython.display import clear_output, display\n",
    "from scipy.stats import kurtosis, skew\n",
    "import warnings\n",
    "warnings.filterwarnings('ignore')"
   ]
  },
  {
   "cell_type": "code",
   "execution_count": 2,
   "metadata": {},
   "outputs": [],
   "source": [
    "# Loading Meta_Data"
   ]
  },
  {
   "cell_type": "code",
   "execution_count": 3,
   "metadata": {},
   "outputs": [],
   "source": [
    "# Set your path to the dataset\n",
    "us8k_path = os.path.abspath('C:/Users/VSBAG/Desktop/DSE_Milan/3rd_sem_subject/Machine Learning/Project/Sound_classification/UrbanSound8K')\n",
    "audio_path = os.path.join(us8k_path, 'audio')\n",
    "metadata_path = os.path.join(us8k_path, 'metadata/UrbanSound8K.csv')"
   ]
  },
  {
   "cell_type": "code",
   "execution_count": 4,
   "metadata": {},
   "outputs": [
    {
     "name": "stdout",
     "output_type": "stream",
     "text": [
      "(8732, 8)\n"
     ]
    },
    {
     "data": {
      "text/html": [
       "<div>\n",
       "<style scoped>\n",
       "    .dataframe tbody tr th:only-of-type {\n",
       "        vertical-align: middle;\n",
       "    }\n",
       "\n",
       "    .dataframe tbody tr th {\n",
       "        vertical-align: top;\n",
       "    }\n",
       "\n",
       "    .dataframe thead th {\n",
       "        text-align: right;\n",
       "    }\n",
       "</style>\n",
       "<table border=\"1\" class=\"dataframe\">\n",
       "  <thead>\n",
       "    <tr style=\"text-align: right;\">\n",
       "      <th></th>\n",
       "      <th>slice_file_name</th>\n",
       "      <th>fsID</th>\n",
       "      <th>start</th>\n",
       "      <th>end</th>\n",
       "      <th>salience</th>\n",
       "      <th>fold</th>\n",
       "      <th>classID</th>\n",
       "      <th>class</th>\n",
       "    </tr>\n",
       "  </thead>\n",
       "  <tbody>\n",
       "    <tr>\n",
       "      <th>0</th>\n",
       "      <td>100032-3-0-0.wav</td>\n",
       "      <td>100032</td>\n",
       "      <td>0.000000</td>\n",
       "      <td>0.317551</td>\n",
       "      <td>1</td>\n",
       "      <td>5</td>\n",
       "      <td>3</td>\n",
       "      <td>dog_bark</td>\n",
       "    </tr>\n",
       "    <tr>\n",
       "      <th>1</th>\n",
       "      <td>100263-2-0-117.wav</td>\n",
       "      <td>100263</td>\n",
       "      <td>58.500000</td>\n",
       "      <td>62.500000</td>\n",
       "      <td>1</td>\n",
       "      <td>5</td>\n",
       "      <td>2</td>\n",
       "      <td>children_playing</td>\n",
       "    </tr>\n",
       "    <tr>\n",
       "      <th>2</th>\n",
       "      <td>100263-2-0-121.wav</td>\n",
       "      <td>100263</td>\n",
       "      <td>60.500000</td>\n",
       "      <td>64.500000</td>\n",
       "      <td>1</td>\n",
       "      <td>5</td>\n",
       "      <td>2</td>\n",
       "      <td>children_playing</td>\n",
       "    </tr>\n",
       "    <tr>\n",
       "      <th>3</th>\n",
       "      <td>100263-2-0-126.wav</td>\n",
       "      <td>100263</td>\n",
       "      <td>63.000000</td>\n",
       "      <td>67.000000</td>\n",
       "      <td>1</td>\n",
       "      <td>5</td>\n",
       "      <td>2</td>\n",
       "      <td>children_playing</td>\n",
       "    </tr>\n",
       "    <tr>\n",
       "      <th>4</th>\n",
       "      <td>100263-2-0-137.wav</td>\n",
       "      <td>100263</td>\n",
       "      <td>68.500000</td>\n",
       "      <td>72.500000</td>\n",
       "      <td>1</td>\n",
       "      <td>5</td>\n",
       "      <td>2</td>\n",
       "      <td>children_playing</td>\n",
       "    </tr>\n",
       "    <tr>\n",
       "      <th>5</th>\n",
       "      <td>100263-2-0-143.wav</td>\n",
       "      <td>100263</td>\n",
       "      <td>71.500000</td>\n",
       "      <td>75.500000</td>\n",
       "      <td>1</td>\n",
       "      <td>5</td>\n",
       "      <td>2</td>\n",
       "      <td>children_playing</td>\n",
       "    </tr>\n",
       "    <tr>\n",
       "      <th>6</th>\n",
       "      <td>100263-2-0-161.wav</td>\n",
       "      <td>100263</td>\n",
       "      <td>80.500000</td>\n",
       "      <td>84.500000</td>\n",
       "      <td>1</td>\n",
       "      <td>5</td>\n",
       "      <td>2</td>\n",
       "      <td>children_playing</td>\n",
       "    </tr>\n",
       "    <tr>\n",
       "      <th>7</th>\n",
       "      <td>100263-2-0-3.wav</td>\n",
       "      <td>100263</td>\n",
       "      <td>1.500000</td>\n",
       "      <td>5.500000</td>\n",
       "      <td>1</td>\n",
       "      <td>5</td>\n",
       "      <td>2</td>\n",
       "      <td>children_playing</td>\n",
       "    </tr>\n",
       "    <tr>\n",
       "      <th>8</th>\n",
       "      <td>100263-2-0-36.wav</td>\n",
       "      <td>100263</td>\n",
       "      <td>18.000000</td>\n",
       "      <td>22.000000</td>\n",
       "      <td>1</td>\n",
       "      <td>5</td>\n",
       "      <td>2</td>\n",
       "      <td>children_playing</td>\n",
       "    </tr>\n",
       "    <tr>\n",
       "      <th>9</th>\n",
       "      <td>100648-1-0-0.wav</td>\n",
       "      <td>100648</td>\n",
       "      <td>4.823402</td>\n",
       "      <td>5.471927</td>\n",
       "      <td>2</td>\n",
       "      <td>10</td>\n",
       "      <td>1</td>\n",
       "      <td>car_horn</td>\n",
       "    </tr>\n",
       "  </tbody>\n",
       "</table>\n",
       "</div>"
      ],
      "text/plain": [
       "      slice_file_name    fsID      start        end  salience  fold  classID  \\\n",
       "0    100032-3-0-0.wav  100032   0.000000   0.317551         1     5        3   \n",
       "1  100263-2-0-117.wav  100263  58.500000  62.500000         1     5        2   \n",
       "2  100263-2-0-121.wav  100263  60.500000  64.500000         1     5        2   \n",
       "3  100263-2-0-126.wav  100263  63.000000  67.000000         1     5        2   \n",
       "4  100263-2-0-137.wav  100263  68.500000  72.500000         1     5        2   \n",
       "5  100263-2-0-143.wav  100263  71.500000  75.500000         1     5        2   \n",
       "6  100263-2-0-161.wav  100263  80.500000  84.500000         1     5        2   \n",
       "7    100263-2-0-3.wav  100263   1.500000   5.500000         1     5        2   \n",
       "8   100263-2-0-36.wav  100263  18.000000  22.000000         1     5        2   \n",
       "9    100648-1-0-0.wav  100648   4.823402   5.471927         2    10        1   \n",
       "\n",
       "              class  \n",
       "0          dog_bark  \n",
       "1  children_playing  \n",
       "2  children_playing  \n",
       "3  children_playing  \n",
       "4  children_playing  \n",
       "5  children_playing  \n",
       "6  children_playing  \n",
       "7  children_playing  \n",
       "8  children_playing  \n",
       "9          car_horn  "
      ]
     },
     "execution_count": 4,
     "metadata": {},
     "output_type": "execute_result"
    }
   ],
   "source": [
    "# Load the metadata from the generated CSV\n",
    "metadata = pd.read_csv(metadata_path)\n",
    "print(metadata.shape)\n",
    "metadata.head(10)"
   ]
  },
  {
   "cell_type": "code",
   "execution_count": 7,
   "metadata": {},
   "outputs": [],
   "source": [
    "for index, row in metadata.iterrows():\n",
    "    file_path = os.path.join(os.path.abspath(audio_path), 'fold' + str(row[\"fold\"]), str(row[\"slice_file_name\"]))\n",
    "    class_label = row[\"class\"]"
   ]
  },
  {
   "cell_type": "code",
   "execution_count": 13,
   "metadata": {},
   "outputs": [
    {
     "data": {
      "text/plain": [
       "((40,),\n",
       " (40,),\n",
       " (40,),\n",
       " (40,),\n",
       " (40,),\n",
       " (40,),\n",
       " (40,),\n",
       " (40,),\n",
       " (40,),\n",
       " (40,),\n",
       " (40,),\n",
       " (40,),\n",
       " (40,),\n",
       " (40,),\n",
       " (40,),\n",
       " (40,),\n",
       " (40,),\n",
       " (40,),\n",
       " (40,),\n",
       " (40,),\n",
       " (40,),\n",
       " (40,),\n",
       " (40,),\n",
       " (40,),\n",
       " (40,),\n",
       " (40,),\n",
       " (40,),\n",
       " (40,))"
      ]
     },
     "execution_count": 13,
     "metadata": {},
     "output_type": "execute_result"
    }
   ],
   "source": [
    "#feature set\n",
    "y,sr=librosa.load(file_path)\n",
    "melspectrogram = np.mean(librosa.feature.melspectrogram(y=y, sr=sr, n_mels=40,fmax=8000).T,axis=0)\n",
    "mel1 = np.max(librosa.feature.melspectrogram(y=y, sr=sr, n_mels=40,fmax=8000).T,axis=0)\n",
    "mel2 = np.min(librosa.feature.melspectrogram(y=y, sr=sr, n_mels=40,fmax=8000).T,axis=0)\n",
    "mel3 = np.var(librosa.feature.melspectrogram(y=y, sr=sr, n_mels=40,fmax=8000).T,axis=0)\n",
    "mel4 = np.median(librosa.feature.melspectrogram(y=y, sr=sr, n_mels=40,fmax=8000).T,axis=0)\n",
    "mfccs_min = np.min(librosa.feature.mfcc(y=y, sr=sr, n_mfcc = 20).T,axis=0)  \n",
    "mfccs_min.resize((40,),refcheck=False)\n",
    "mfccs_max = np.max(librosa.feature.mfcc(y=y, sr=sr, n_mfcc = 20).T,axis=0)  \n",
    "mfccs_max.resize((40,),refcheck=False)\n",
    "mfccs_median = np.median(librosa.feature.mfcc(y=y, sr=sr, n_mfcc = 20).T,axis=0) \n",
    "mfccs_median.resize((40,),refcheck=False)\n",
    "mfccs_mean = np.mean(librosa.feature.mfcc(y=y, sr=sr, n_mfcc = 20).T,axis=0)  \n",
    "mfccs_mean.resize((40,),refcheck=False)\n",
    "mfccs_variance = np.var(librosa.feature.mfcc(y=y, sr=sr, n_mfcc = 20).T,axis=0) \n",
    "mfccs_variance.resize((40,),refcheck=False)\n",
    "mfccs_skewness = skew(librosa.feature.mfcc(y=y, sr=sr, n_mfcc = 20).T,axis=0)  \n",
    "mfccs_skewness.resize((40,),refcheck=False)\n",
    "mfccs_kurtosis = kurtosis(librosa.feature.mfcc(y=y, sr=sr, n_mfcc = 20).T,axis=0) \n",
    "mfccs_kurtosis.resize((40,),refcheck=False)\n",
    "chroma_stft=np.mean(librosa.feature.chroma_stft(y=y, sr=sr,n_chroma=40).T,axis=0)\n",
    "chrom2=np.std(librosa.feature.chroma_stft(y=y, sr=sr,n_chroma=40).T,axis=0)\n",
    "rmse1 = np.mean(librosa.feature.rms(y=y).T,axis=0)\n",
    "rmse1.resize((40,),refcheck=False)\n",
    "rmse2 = np.std(librosa.feature.rms(y=y).T,axis=0)\n",
    "rmse2.resize((40,),refcheck=False)\n",
    "spec_bw1 = np.mean(librosa.feature.spectral_bandwidth(y=y, sr=sr,n_fft=2048,hop_length=512).T,axis=0)\n",
    "spec_bw1.resize((40,),refcheck=False)\n",
    "spec_bw2 = np.std(librosa.feature.spectral_bandwidth(y=y, sr=sr,n_fft=2048,hop_length=512).T,axis=0)\n",
    "spec_bw2.resize((40,),refcheck=False)\n",
    "rolloff1 = np.mean(librosa.feature.spectral_rolloff(y=y, sr=sr,n_fft=2048,hop_length=512).T,axis=0)\n",
    "rolloff1.resize((40,),refcheck=False)\n",
    "rolloff2 = np.std(librosa.feature.spectral_rolloff(y=y, sr=sr,n_fft=2048,hop_length=512).T,axis=0)\n",
    "rolloff2.resize((40,),refcheck=False)\n",
    "centroid1 = np.mean(librosa.feature.spectral_centroid(y=y, sr=sr,n_fft=2048,hop_length=512).T,axis=0)\n",
    "centroid1.resize((40,),refcheck=False)\n",
    "centroid2 = np.std(librosa.feature.spectral_centroid(y=y, sr=sr,n_fft=2048,hop_length=512).T,axis=0)\n",
    "centroid2.resize((40,),refcheck=False)\n",
    "zcr1 = np.mean(librosa.feature.zero_crossing_rate(y).T,axis=0)\n",
    "zcr1.resize((40,),refcheck=False)\n",
    "zcr2 = np.std(librosa.feature.zero_crossing_rate(y).T,axis=0)\n",
    "zcr2.resize((40,),refcheck=False)\n",
    "chrcn1=np.mean(librosa.feature.chroma_cens(y=y, sr=sr,C=None,n_chroma=12,bins_per_octave=36).T,axis=0)\n",
    "chrcn1.resize((40,),refcheck=False)\n",
    "chrcn2=np.std(librosa.feature.chroma_cens(y=y, sr=sr,C=None,n_chroma=12,bins_per_octave=36).T,axis=0)\n",
    "chrcn2.resize((40,),refcheck=False)\n",
    "chrcqt1=np.mean(librosa.feature.chroma_cqt(y=y, sr=sr,C=None,n_chroma=12,bins_per_octave=36).T,axis=0)\n",
    "chrcqt1.resize((40,),refcheck=False)\n",
    "chrcqt2=np.std(librosa.feature.chroma_cens(y=y, sr=sr,C=None,n_chroma=12,bins_per_octave=36).T,axis=0)\n",
    "chrcqt2.resize((40,),refcheck=False)\n",
    "melspectrogram.shape,mel1.shape,mel2.shape,mel3.shape,mel4.shape,mfccs_min.shape,mfccs_max.shape,mfccs_median.shape,mfccs_mean.shape,mfccs_variance.shape,mfccs_skewness.shape,mfccs_kurtosis.shape,chroma_stft.shape,chrom2.shape,rmse1.shape,rmse2.shape,spec_bw1.shape,spec_bw2.shape,rolloff1.shape,rolloff2.shape,centroid1.shape,centroid2.shape,zcr1.shape,zcr2.shape,chrcn1.shape,chrcn2.shape,chrcqt1.shape,chrcqt2.shape"
   ]
  },
  {
   "cell_type": "code",
   "execution_count": 14,
   "metadata": {},
   "outputs": [
    {
     "data": {
      "text/plain": [
       "<function ndarray.reshape>"
      ]
     },
     "execution_count": 14,
     "metadata": {},
     "output_type": "execute_result"
    }
   ],
   "source": [
    "features=np.vstack((melspectrogram,mel1,mel2,mel3,mel4,mfccs_min,mfccs_max,mfccs_median,mfccs_mean,mfccs_variance,mfccs_skewness,mfccs_kurtosis,chroma_stft,chrom2,rmse1,rmse2,spec_bw1,spec_bw2,rolloff1,rolloff2,centroid1,centroid2,zcr1,zcr2,chrcn1,chrcn2,chrcqt1,chrcqt2))\n",
    "features.reshape"
   ]
  },
  {
   "cell_type": "code",
   "execution_count": 15,
   "metadata": {},
   "outputs": [
    {
     "data": {
      "text/plain": [
       "array([[8.71442780e-02, 1.68030888e-01, 1.96782798e-01, ...,\n",
       "        1.63907779e-03, 7.97315151e-04, 3.04472516e-04],\n",
       "       [1.91622913e-01, 4.80677158e-01, 5.65517724e-01, ...,\n",
       "        8.93815234e-03, 3.18803638e-03, 1.00509473e-03],\n",
       "       [2.44497098e-02, 4.04719859e-02, 5.08622006e-02, ...,\n",
       "        1.41392768e-04, 6.73082686e-05, 3.84440827e-05],\n",
       "       ...,\n",
       "       [4.85125070e-02, 7.21354530e-02, 6.41692204e-02, ...,\n",
       "        0.00000000e+00, 0.00000000e+00, 0.00000000e+00],\n",
       "       [6.32418096e-01, 5.76046646e-01, 6.38002634e-01, ...,\n",
       "        0.00000000e+00, 0.00000000e+00, 0.00000000e+00],\n",
       "       [4.85125070e-02, 7.21354530e-02, 6.41692204e-02, ...,\n",
       "        0.00000000e+00, 0.00000000e+00, 0.00000000e+00]])"
      ]
     },
     "execution_count": 15,
     "metadata": {},
     "output_type": "execute_result"
    }
   ],
   "source": [
    "features"
   ]
  },
  {
   "cell_type": "code",
   "execution_count": 17,
   "metadata": {},
   "outputs": [
    {
     "name": "stderr",
     "output_type": "stream",
     "text": [
      "100%|███████████████████████████████████████████████████████████████████████████| 8732/8732 [12:47:59<00:00,  5.28s/it]\n"
     ]
    }
   ],
   "source": [
    "#preprocessing using entire feature set\n",
    "from tqdm import tqdm\n",
    "x_train=[]\n",
    "x_test=[]\n",
    "y_train=[]\n",
    "y_test=[]\n",
    "path=\"C:/Users/VSBAG/Desktop/DSE_Milan/3rd_sem_subject/Machine Learning/Project/Sound_classification/UrbanSound8K/audio/fold\"\n",
    "for i in tqdm(range(len(meta_data))):\n",
    "    fold_no=str(meta_data.iloc[i][\"fold\"])\n",
    "    file=meta_data.iloc[i][\"slice_file_name\"]\n",
    "    label=meta_data.iloc[i][\"classID\"]\n",
    "    filename=path+fold_no+\"/\"+file\n",
    "    y,sr=librosa.load(filename)\n",
    "    mfccs_min = np.min(librosa.feature.mfcc(y=y, sr=sr, n_mfcc = 20).T,axis=0)  \n",
    "    mfccs_max = np.max(librosa.feature.mfcc(y=y, sr=sr, n_mfcc = 20).T,axis=0)  \n",
    "    mfccs_median = np.median(librosa.feature.mfcc(y=y, sr=sr, n_mfcc = 20).T,axis=0) \n",
    "\n",
    "    mfccs_mean = np.mean(librosa.feature.mfcc(y=y, sr=sr, n_mfcc = 20).T,axis=0)  \n",
    "\n",
    "    mfccs_variance = np.var(librosa.feature.mfcc(y=y, sr=sr, n_mfcc = 20).T,axis=0) \n",
    "\n",
    "    mfccs_skewness = skew(librosa.feature.mfcc(y=y, sr=sr, n_mfcc = 20).T,axis=0)  \n",
    "\n",
    "    mfccs_kurtosis = kurtosis(librosa.feature.mfcc(y=y, sr=sr, n_mfcc = 20).T,axis=0) \n",
    "    melspectrogram = np.mean(librosa.feature.melspectrogram(y=y, sr=sr, n_mels=40,fmax=8000).T,axis=0)\n",
    "    mel1 = np.max(librosa.feature.melspectrogram(y=y, sr=sr, n_mels=40,fmax=8000).T,axis=0)\n",
    "    mel2 = np.min(librosa.feature.melspectrogram(y=y, sr=sr, n_mels=40,fmax=8000).T,axis=0)\n",
    "    mel3 = np.var(librosa.feature.melspectrogram(y=y, sr=sr, n_mels=40,fmax=8000).T,axis=0)\n",
    "    mel4 = np.median(librosa.feature.melspectrogram(y=y, sr=sr, n_mels=40,fmax=8000).T,axis=0)\n",
    "    chroma_stft=np.mean(librosa.feature.chroma_stft(y=y, sr=sr,n_chroma=40).T,axis=0)\n",
    "    chrom2=np.std(librosa.feature.chroma_stft(y=y, sr=sr,n_chroma=40).T,axis=0)\n",
    "    rmse1 = np.mean(librosa.feature.rms(y=y).T,axis=0)\n",
    "    rmse2 = np.std(librosa.feature.rms(y=y).T,axis=0)\n",
    "    spec_bw1 = np.mean(librosa.feature.spectral_bandwidth(y=y, sr=sr).T,axis=0)\n",
    "    spec_bw2 = np.std(librosa.feature.spectral_bandwidth(y=y, sr=sr).T,axis=0)\n",
    "    rolloff1 = np.mean(librosa.feature.spectral_rolloff(y=y, sr=sr).T,axis=0)\n",
    "    rolloff2 = np.std(librosa.feature.spectral_rolloff(y=y, sr=sr).T,axis=0)\n",
    "    centroid1 = np.mean(librosa.feature.spectral_centroid(y=y, sr=sr).T,axis=0)\n",
    "    centroid2 = np.std(librosa.feature.spectral_centroid(y=y, sr=sr).T,axis=0)\n",
    "    zcr1 = np.mean(librosa.feature.zero_crossing_rate(y).T,axis=0)\n",
    "    zcr2 = np.std(librosa.feature.zero_crossing_rate(y).T,axis=0)\n",
    "    chrcn1=np.mean(librosa.feature.chroma_cens(y=y, sr=sr,C=None,n_chroma=12,bins_per_octave=36).T,axis=0)\n",
    "    chrcn2=np.std(librosa.feature.chroma_cens(y=y, sr=sr,C=None,n_chroma=12,bins_per_octave=36).T,axis=0)\n",
    "    chrcqt1=np.mean(librosa.feature.chroma_cqt(y=y, sr=sr,C=None,n_chroma=12,bins_per_octave=36).T,axis=0)\n",
    "    chrcqt2=np.std(librosa.feature.chroma_cens(y=y, sr=sr,C=None,n_chroma=12,bins_per_octave=36).T,axis=0)\n",
    "    features\n",
    "    if(fold_no!='10'):\n",
    "      x_train.append(features)\n",
    "      y_train.append(label)\n",
    "    else:\n",
    "      x_test.append(features)\n",
    "      y_test.append(label)"
   ]
  },
  {
   "cell_type": "code",
   "execution_count": 18,
   "metadata": {},
   "outputs": [
    {
     "data": {
      "text/plain": [
       "8732"
      ]
     },
     "execution_count": 18,
     "metadata": {},
     "output_type": "execute_result"
    }
   ],
   "source": [
    "len(x_train)+len(x_test)"
   ]
  },
  {
   "cell_type": "code",
   "execution_count": 19,
   "metadata": {},
   "outputs": [
    {
     "data": {
      "text/plain": [
       "8732"
      ]
     },
     "execution_count": 19,
     "metadata": {},
     "output_type": "execute_result"
    }
   ],
   "source": [
    "len(meta_data)"
   ]
  },
  {
   "cell_type": "code",
   "execution_count": 20,
   "metadata": {},
   "outputs": [
    {
     "data": {
      "text/plain": [
       "((7895, 28, 40), (837, 28, 40), (7895,), (837,))"
      ]
     },
     "execution_count": 20,
     "metadata": {},
     "output_type": "execute_result"
    }
   ],
   "source": [
    "#converting the lists into numpy arrays\n",
    "x_train1=np.array(x_train)\n",
    "x_test1=np.array(x_test)\n",
    "y_train1=np.array(y_train)\n",
    "y_test1=np.array(y_test)\n",
    "x_train1.shape,x_test1.shape,y_train1.shape,y_test1.shape"
   ]
  },
  {
   "cell_type": "code",
   "execution_count": 21,
   "metadata": {},
   "outputs": [
    {
     "data": {
      "text/plain": [
       "((7895, 1120), (837, 1120))"
      ]
     },
     "execution_count": 21,
     "metadata": {},
     "output_type": "execute_result"
    }
   ],
   "source": [
    "#reshaping into 2d to save in csv format\n",
    "x_train_2d=np.reshape(x_train1,(x_train1.shape[0],x_train1.shape[1]*x_train1.shape[2]))\n",
    "x_test_2d=np.reshape(x_test1,(x_test1.shape[0],x_test1.shape[1]*x_test1.shape[2]))\n",
    "x_train_2d.shape,x_test_2d.shape"
   ]
  },
  {
   "cell_type": "code",
   "execution_count": 22,
   "metadata": {},
   "outputs": [],
   "source": [
    "#saving the data numpy arrays\n",
    "np.savetxt(\"train_data1.csv\", x_train_2d, delimiter=\",\")\n",
    "np.savetxt(\"test_data1.csv\",x_test_2d,delimiter=\",\")\n",
    "np.savetxt(\"train_labels1.csv\",y_train,delimiter=\",\")\n",
    "np.savetxt(\"test_labels1.csv\",y_test,delimiter=\",\")"
   ]
  },
  {
   "cell_type": "code",
   "execution_count": null,
   "metadata": {},
   "outputs": [],
   "source": []
  }
 ],
 "metadata": {
  "kernelspec": {
   "display_name": "Python 3",
   "language": "python",
   "name": "python3"
  },
  "language_info": {
   "codemirror_mode": {
    "name": "ipython",
    "version": 3
   },
   "file_extension": ".py",
   "mimetype": "text/x-python",
   "name": "python",
   "nbconvert_exporter": "python",
   "pygments_lexer": "ipython3",
   "version": "3.8.5"
  }
 },
 "nbformat": 4,
 "nbformat_minor": 4
}
